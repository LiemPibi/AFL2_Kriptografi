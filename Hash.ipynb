{
  "nbformat": 4,
  "nbformat_minor": 0,
  "metadata": {
    "colab": {
      "provenance": [],
      "collapsed_sections": [
        "lmboFckSJIUF",
        "xwqoM4HbJiBc"
      ],
      "toc_visible": true,
      "authorship_tag": "ABX9TyO3Rx71vxHdGLN70+h48iy1",
      "include_colab_link": true
    },
    "kernelspec": {
      "name": "python3",
      "display_name": "Python 3"
    },
    "language_info": {
      "name": "python"
    }
  },
  "cells": [
    {
      "cell_type": "markdown",
      "metadata": {
        "id": "view-in-github",
        "colab_type": "text"
      },
      "source": [
        "<a href=\"https://colab.research.google.com/github/LiemPibi/AFL2_Kriptografi/blob/main/Hash.ipynb\" target=\"_parent\"><img src=\"https://colab.research.google.com/assets/colab-badge.svg\" alt=\"Open In Colab\"/></a>"
      ]
    },
    {
      "cell_type": "markdown",
      "source": [
        "# Hash 1A\n"
      ],
      "metadata": {
        "id": "lmboFckSJIUF"
      }
    },
    {
      "cell_type": "code",
      "metadata": {
        "colab": {
          "base_uri": "https://localhost:8080/"
        },
        "id": "69292295",
        "outputId": "a660f7a6-9d90-4eb8-c0ae-5bca4b57449a"
      },
      "source": [
        "%%bash\n",
        "apt-get update && apt-get install -y nodejs"
      ],
      "execution_count": null,
      "outputs": [
        {
          "output_type": "stream",
          "name": "stdout",
          "text": [
            "Get:1 http://security.ubuntu.com/ubuntu jammy-security InRelease [129 kB]\n",
            "Get:2 https://cloud.r-project.org/bin/linux/ubuntu jammy-cran40/ InRelease [3,632 B]\n",
            "Hit:3 https://developer.download.nvidia.com/compute/cuda/repos/ubuntu2204/x86_64  InRelease\n",
            "Hit:4 https://ppa.launchpadcontent.net/deadsnakes/ppa/ubuntu jammy InRelease\n",
            "Hit:5 https://ppa.launchpadcontent.net/graphics-drivers/ppa/ubuntu jammy InRelease\n",
            "Hit:6 http://archive.ubuntu.com/ubuntu jammy InRelease\n",
            "Hit:7 https://ppa.launchpadcontent.net/ubuntugis/ppa/ubuntu jammy InRelease\n",
            "Get:8 http://archive.ubuntu.com/ubuntu jammy-updates InRelease [128 kB]\n",
            "Hit:9 https://cli.github.com/packages stable InRelease\n",
            "Get:10 http://security.ubuntu.com/ubuntu jammy-security/universe amd64 Packages [1,288 kB]\n",
            "Get:11 http://security.ubuntu.com/ubuntu jammy-security/restricted amd64 Packages [5,865 kB]\n",
            "Get:12 http://security.ubuntu.com/ubuntu jammy-security/main amd64 Packages [3,472 kB]\n",
            "Get:13 https://r2u.stat.illinois.edu/ubuntu jammy InRelease [6,555 B]\n",
            "Get:14 http://archive.ubuntu.com/ubuntu jammy-backports InRelease [127 kB]\n",
            "Get:15 http://archive.ubuntu.com/ubuntu jammy-updates/universe amd64 Packages [1,594 kB]\n",
            "Get:16 https://r2u.stat.illinois.edu/ubuntu jammy/main amd64 Packages [2,817 kB]\n",
            "Get:17 http://archive.ubuntu.com/ubuntu jammy-updates/main amd64 Packages [3,798 kB]\n",
            "Get:18 https://r2u.stat.illinois.edu/ubuntu jammy/main all Packages [9,389 kB]\n",
            "Fetched 28.6 MB in 4s (7,008 kB/s)\n",
            "Reading package lists...\n",
            "Reading package lists...\n",
            "Building dependency tree...\n",
            "Reading state information...\n",
            "The following additional packages will be installed:\n",
            "  javascript-common libc-ares2 libjs-highlight.js libnode72 nodejs-doc\n",
            "Suggested packages:\n",
            "  apache2 | lighttpd | httpd npm\n",
            "The following NEW packages will be installed:\n",
            "  javascript-common libc-ares2 libjs-highlight.js libnode72 nodejs nodejs-doc\n",
            "0 upgraded, 6 newly installed, 0 to remove and 43 not upgraded.\n",
            "Need to get 13.7 MB of archives.\n",
            "After this operation, 54.0 MB of additional disk space will be used.\n",
            "Get:1 http://archive.ubuntu.com/ubuntu jammy/main amd64 javascript-common all 11+nmu1 [5,936 B]\n",
            "Get:2 http://archive.ubuntu.com/ubuntu jammy/universe amd64 libjs-highlight.js all 9.18.5+dfsg1-1 [367 kB]\n",
            "Get:3 http://archive.ubuntu.com/ubuntu jammy-updates/main amd64 libc-ares2 amd64 1.18.1-1ubuntu0.22.04.3 [45.1 kB]\n",
            "Get:4 http://archive.ubuntu.com/ubuntu jammy-updates/universe amd64 libnode72 amd64 12.22.9~dfsg-1ubuntu3.6 [10.8 MB]\n",
            "Get:5 http://archive.ubuntu.com/ubuntu jammy-updates/universe amd64 nodejs-doc all 12.22.9~dfsg-1ubuntu3.6 [2,411 kB]\n",
            "Get:6 http://archive.ubuntu.com/ubuntu jammy-updates/universe amd64 nodejs amd64 12.22.9~dfsg-1ubuntu3.6 [122 kB]\n",
            "Fetched 13.7 MB in 1s (12.9 MB/s)\n",
            "Selecting previously unselected package javascript-common.\r\n",
            "(Reading database ... \r(Reading database ... 5%\r(Reading database ... 10%\r(Reading database ... 15%\r(Reading database ... 20%\r(Reading database ... 25%\r(Reading database ... 30%\r(Reading database ... 35%\r(Reading database ... 40%\r(Reading database ... 45%\r(Reading database ... 50%\r(Reading database ... 55%\r(Reading database ... 60%\r(Reading database ... 65%\r(Reading database ... 70%\r(Reading database ... 75%\r(Reading database ... 80%\r(Reading database ... 85%\r(Reading database ... 90%\r(Reading database ... 95%\r(Reading database ... 100%\r(Reading database ... 126675 files and directories currently installed.)\r\n",
            "Preparing to unpack .../0-javascript-common_11+nmu1_all.deb ...\r\n",
            "Unpacking javascript-common (11+nmu1) ...\r\n",
            "Selecting previously unselected package libjs-highlight.js.\r\n",
            "Preparing to unpack .../1-libjs-highlight.js_9.18.5+dfsg1-1_all.deb ...\r\n",
            "Unpacking libjs-highlight.js (9.18.5+dfsg1-1) ...\r\n",
            "Selecting previously unselected package libc-ares2:amd64.\r\n",
            "Preparing to unpack .../2-libc-ares2_1.18.1-1ubuntu0.22.04.3_amd64.deb ...\r\n",
            "Unpacking libc-ares2:amd64 (1.18.1-1ubuntu0.22.04.3) ...\r\n",
            "Selecting previously unselected package libnode72:amd64.\r\n",
            "Preparing to unpack .../3-libnode72_12.22.9~dfsg-1ubuntu3.6_amd64.deb ...\r\n",
            "Unpacking libnode72:amd64 (12.22.9~dfsg-1ubuntu3.6) ...\r\n",
            "Selecting previously unselected package nodejs-doc.\r\n",
            "Preparing to unpack .../4-nodejs-doc_12.22.9~dfsg-1ubuntu3.6_all.deb ...\r\n",
            "Unpacking nodejs-doc (12.22.9~dfsg-1ubuntu3.6) ...\r\n",
            "Selecting previously unselected package nodejs.\r\n",
            "Preparing to unpack .../5-nodejs_12.22.9~dfsg-1ubuntu3.6_amd64.deb ...\r\n",
            "Unpacking nodejs (12.22.9~dfsg-1ubuntu3.6) ...\r\n",
            "Setting up javascript-common (11+nmu1) ...\r\n",
            "Setting up libc-ares2:amd64 (1.18.1-1ubuntu0.22.04.3) ...\r\n",
            "Setting up libnode72:amd64 (12.22.9~dfsg-1ubuntu3.6) ...\r\n",
            "Setting up libjs-highlight.js (9.18.5+dfsg1-1) ...\r\n",
            "Setting up nodejs (12.22.9~dfsg-1ubuntu3.6) ...\r\n",
            "update-alternatives: using /usr/bin/nodejs to provide /usr/bin/js (js) in auto mode\r\n",
            "Setting up nodejs-doc (12.22.9~dfsg-1ubuntu3.6) ...\r\n",
            "Processing triggers for man-db (2.10.2-1) ...\r\n",
            "Processing triggers for libc-bin (2.35-0ubuntu3.8) ...\r\n",
            "/sbin/ldconfig.real: /usr/local/lib/libtbbbind_2_5.so.3 is not a symbolic link\r\n",
            "\r\n",
            "/sbin/ldconfig.real: /usr/local/lib/libur_adapter_level_zero.so.0 is not a symbolic link\r\n",
            "\r\n",
            "/sbin/ldconfig.real: /usr/local/lib/libtbbbind.so.3 is not a symbolic link\r\n",
            "\r\n",
            "/sbin/ldconfig.real: /usr/local/lib/libur_adapter_opencl.so.0 is not a symbolic link\r\n",
            "\r\n",
            "/sbin/ldconfig.real: /usr/local/lib/libtbbbind_2_0.so.3 is not a symbolic link\r\n",
            "\r\n",
            "/sbin/ldconfig.real: /usr/local/lib/libur_loader.so.0 is not a symbolic link\r\n",
            "\r\n",
            "/sbin/ldconfig.real: /usr/local/lib/libumf.so.0 is not a symbolic link\r\n",
            "\r\n",
            "/sbin/ldconfig.real: /usr/local/lib/libtbbmalloc.so.2 is not a symbolic link\r\n",
            "\r\n",
            "/sbin/ldconfig.real: /usr/local/lib/libtbb.so.12 is not a symbolic link\r\n",
            "\r\n",
            "/sbin/ldconfig.real: /usr/local/lib/libtcm_debug.so.1 is not a symbolic link\r\n",
            "\r\n",
            "/sbin/ldconfig.real: /usr/local/lib/libtbbmalloc_proxy.so.2 is not a symbolic link\r\n",
            "\r\n",
            "/sbin/ldconfig.real: /usr/local/lib/libtcm.so.1 is not a symbolic link\r\n",
            "\r\n",
            "/sbin/ldconfig.real: /usr/local/lib/libhwloc.so.15 is not a symbolic link\r\n",
            "\r\n",
            "/sbin/ldconfig.real: /usr/local/lib/libur_adapter_level_zero_v2.so.0 is not a symbolic link\r\n",
            "\r\n"
          ]
        },
        {
          "output_type": "stream",
          "name": "stderr",
          "text": [
            "W: Skipping acquire of configured file 'main/source/Sources' as repository 'https://r2u.stat.illinois.edu/ubuntu jammy InRelease' does not seem to provide it (sources.list entry misspelt?)\n"
          ]
        }
      ]
    },
    {
      "cell_type": "code",
      "metadata": {
        "colab": {
          "base_uri": "https://localhost:8080/"
        },
        "id": "30326640",
        "outputId": "7d82c8f7-6087-46b2-802c-072d012f2531"
      },
      "source": [
        "%%bash\n",
        "node generate-hash.js"
      ],
      "execution_count": null,
      "outputs": [
        {
          "output_type": "stream",
          "name": "stdout",
          "text": [
            "Message: this is a secret message\n",
            "MD5 Hash: 2cf33591c3b28b382668952e236cccd5\n",
            "SHA1 Hash: d73577ce5ffe19680faecd328edb97470302be90\n",
            "SHA256 Hash: 3f98b95c16476f0b2fc37e8e664a11312966b635f60537f1f5ed75216fa0c060\n"
          ]
        }
      ]
    },
    {
      "cell_type": "code",
      "metadata": {
        "colab": {
          "base_uri": "https://localhost:8080/"
        },
        "id": "60ef362b",
        "outputId": "00f0798b-7545-4ae6-f1ce-0bf3485168fc"
      },
      "source": [
        "# Create the generate-hash.js file\n",
        "file_content = \"\"\"\n",
        "const crypto = require(\"crypto\");\n",
        "\n",
        "const message = \"this is a secret message\";\n",
        "console.log(\"Message:\", message);\n",
        "\n",
        "// SENDER generate MD5 hash\n",
        "const md5Hash = crypto.createHash(\"md5\").update(message).digest(\"hex\");\n",
        "console.log(\"MD5 Hash:\", md5Hash);\n",
        "\n",
        "// SENDER generate SHA-1 hash\n",
        "const sha1Hash = crypto.createHash(\"sha1\").update(message).digest(\"hex\");\n",
        "console.log(\"SHA1 Hash:\", sha1Hash);\n",
        "\n",
        "// SENDER generate SHA-2 hash\n",
        "const sha256Hash = crypto.createHash(\"sha256\").update(message).digest(\"hex\");\n",
        "console.log(\"SHA256 Hash:\", sha256Hash);\n",
        "\n",
        "/**\n",
        " * After this, the SENDER sends MESSAGE and HASH\n",
        " * (can be MD5, SHA1, or SHA256) to the RECIPIENT\n",
        " */\n",
        "\"\"\"\n",
        "\n",
        "with open(\"generate-hash.js\", \"w\") as f:\n",
        "    f.write(file_content)\n",
        "\n",
        "print(\"generate-hash.js created successfully!\")"
      ],
      "execution_count": null,
      "outputs": [
        {
          "output_type": "stream",
          "name": "stdout",
          "text": [
            "generate-hash.js created successfully!\n"
          ]
        }
      ]
    },
    {
      "cell_type": "code",
      "metadata": {
        "colab": {
          "base_uri": "https://localhost:8080/"
        },
        "id": "4c3a4377",
        "outputId": "a67f5587-5772-436c-8528-06aaa0684b6b"
      },
      "source": [
        "%%bash\n",
        "node generate-hash.js"
      ],
      "execution_count": null,
      "outputs": [
        {
          "output_type": "stream",
          "name": "stdout",
          "text": [
            "Message: this is a secret message\n",
            "MD5 Hash: 2cf33591c3b28b382668952e236cccd5\n",
            "SHA1 Hash: d73577ce5ffe19680faecd328edb97470302be90\n",
            "SHA256 Hash: 3f98b95c16476f0b2fc37e8e664a11312966b635f60537f1f5ed75216fa0c060\n"
          ]
        }
      ]
    },
    {
      "cell_type": "markdown",
      "metadata": {
        "id": "bbf05037"
      },
      "source": [
        "Now let's answer your questions based on the output:\n",
        "\n",
        "1.  **Try to run `generate-hash.js` multiple times! What happen to the result?**\n",
        "\n",
        "    If you run the script multiple times without changing the `message` variable, the output hash digests (MD5, SHA1, and SHA256) will remain the same.\n",
        "\n",
        "2.  **Try to change the `message` into other text for example `this is a secret key` , what happen to the result?**\n",
        "\n",
        "    If you change the `message` variable to \"this is a secret key\" and run the script, the output hash digests (MD5, SHA1, and SHA256) will change completely.\n",
        "\n",
        "3.  **What did you learn from this Question 1.A experiment?**\n",
        "\n",
        "    From this experiment, I learned that cryptographic hash functions like MD5, SHA1, and SHA256 are deterministic. This means that for a given input message, the hash function will always produce the same output hash digest. I also learned that even a small change in the input message results in a significantly different hash digest. This demonstrates the \"avalanche effect\" which is a desirable property of cryptographic hash functions, making them suitable for verifying data integrity."
      ]
    },
    {
      "cell_type": "markdown",
      "source": [
        "# Hash 2A"
      ],
      "metadata": {
        "id": "xwqoM4HbJiBc"
      }
    },
    {
      "cell_type": "code",
      "metadata": {
        "colab": {
          "base_uri": "https://localhost:8080/"
        },
        "id": "e6b3bc96",
        "outputId": "231b455b-3707-47e9-8567-3dd72a4d19ae"
      },
      "source": [
        "# Create the verify-hash.js file\n",
        "file_content = \"\"\"\n",
        "const crypto = require(\"crypto\");\n",
        "\n",
        "/**\n",
        " * First of all, the RECIPIENT obtains MESSAGE and HASH\n",
        " * (can be MD5, SHA1, or SHA256) from the SENDER\n",
        " */\n",
        "const message = \"this is a secret message\";\n",
        "const senderHash = \"2cf33591c3b28b382668952e236cccd5\"; // md5 hash\n",
        "\n",
        "// the RECIPIENT need to create their own version of the hash\n",
        "const recipientHash = crypto.createHash(\"md5\").update(message).digest(\"hex\");\n",
        "const isValid = (senderHash == recipientHash);\n",
        "console.log(\"MD5 verification result is:\", isValid);\n",
        "\"\"\"\n",
        "\n",
        "with open(\"verify-hash.js\", \"w\") as f:\n",
        "    f.write(file_content)\n",
        "\n",
        "print(\"verify-hash.js created successfully!\")"
      ],
      "execution_count": null,
      "outputs": [
        {
          "output_type": "stream",
          "name": "stdout",
          "text": [
            "verify-hash.js created successfully!\n"
          ]
        }
      ]
    },
    {
      "cell_type": "code",
      "metadata": {
        "colab": {
          "base_uri": "https://localhost:8080/"
        },
        "id": "8edf0189",
        "outputId": "7d636777-3562-4c7d-98ec-65716c08873a"
      },
      "source": [
        "%%bash\n",
        "node verify-hash.js"
      ],
      "execution_count": null,
      "outputs": [
        {
          "output_type": "stream",
          "name": "stdout",
          "text": [
            "MD5 verification result is: true\n"
          ]
        }
      ]
    },
    {
      "cell_type": "markdown",
      "metadata": {
        "id": "3a779056"
      },
      "source": [
        "Now let's answer your questions based on the output:\n",
        "\n",
        "1.  **Try to change the `message` to `this is a secret key` , what happen to the result?**\n",
        "\n",
        "    If you change the `message` in `verify-hash.js` to \"this is a secret key\" while keeping the `senderHash` the same, and then run the script, the output will be `MD5 verification result is: false`. This is because the hash generated by the recipient for the new message will not match the original hash sent by the sender.\n",
        "\n",
        "2.  **What did you learn from this Question 2.A experiment?**\n",
        "\n",
        "    From this experiment, I learned that hash digests are crucial for verifying data integrity. By comparing the hash of the received message (calculated by the recipient) with the hash sent by the sender, the recipient can determine if the message has been altered during transmission. If even a small change is made to the message, the recipient's calculated hash will be different from the sender's hash, indicating that the message is not the same as the original. This demonstrates how hashing can be used to detect tampering."
      ]
    }
  ]
}